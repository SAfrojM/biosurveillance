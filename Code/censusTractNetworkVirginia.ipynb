{
 "cells": [
  {
   "cell_type": "code",
   "execution_count": 1,
   "metadata": {},
   "outputs": [],
   "source": [
    "import pandas as pd\n",
    "import numpy as np"
   ]
  },
  {
   "cell_type": "code",
   "execution_count": 2,
   "metadata": {},
   "outputs": [
    {
     "name": "stdout",
     "output_type": "stream",
     "text": [
      "[ 90100  90200  90300 ... 370100 370200 370300]\n",
      "['901' '902' '903' ... '3701' '3702' '3703']\n",
      "9301       58835\n",
      "102        49494\n",
      "101        47491\n",
      "103        45861\n",
      "203        45399\n",
      "           ...  \n",
      "1034.01      134\n",
      "450           75\n",
      "109.03        70\n",
      "9801          22\n",
      "9802           9\n",
      "Name: census_tract, Length: 1411, dtype: int64\n"
     ]
    }
   ],
   "source": [
    "node_info = pd.read_csv(\"/project/biocomplexity/nssac/EpiHiperSynPop/v1.9.0/usa_va_2017_SynPop/va_persontrait_epihiper.txt\", skiprows=1)\n",
    "\n",
    "print(node_info.admin3.unique())\n",
    "node_info[\"census_tract\"] = node_info.admin3.apply(lambda row: str(row)[:-2] + \".\" + str(row)[-2:])\n",
    "node_info[\"census_tract\"]=node_info.census_tract.apply(lambda row: row.replace(\".00\", \"\"))\n",
    "print(node_info.census_tract.unique())\n",
    "node_to_census = node_info.set_index(\"pid\")[\"census_tract\"].to_dict() #[node_info.admin2 == 1].admin3.unique() #.info() #.admin3.value_counts()\n",
    "tract_pops = node_info.census_tract.apply(lambda row: row.replace(\".00\", \"\")).value_counts() #num_replicates\n",
    "print(tract_pops)\n",
    "\n",
    "#ind=np.arange(node_info.census_tract.unique().size)\n"
   ]
  },
  {
   "cell_type": "code",
   "execution_count": 3,
   "metadata": {},
   "outputs": [],
   "source": [
    "tractIndex = {tract.replace(\".00\", \"\"):0 for tract in node_info.census_tract.unique() }\n",
    "ind=0\n",
    "for i in tractIndex:\n",
    "    tractIndex[i]=ind\n",
    "    ind+=1\n",
    "l=node_info.census_tract.unique()\n",
    "tactMat=np.zeros((node_info.census_tract.unique().size,node_info.census_tract.unique().size))\n",
    "edgeFullList=pd.read_csv(\"/project/biocomplexity/nssac/EpiHiperSynPop/v1.9.0/usa_va_2017_SynPop/va_contact_network_config_m_5_M_40_a_1000_m-contact_0_no_lid.txt\", skiprows=1)"
   ]
  },
  {
   "cell_type": "code",
   "execution_count": 4,
   "metadata": {},
   "outputs": [],
   "source": [
    "\n",
    "for row in edgeFullList.itertuples(index=False):\n",
    "    tactMat[tractIndex[node_info[\"census_tract\"][row[2]]],tractIndex[node_info[\"census_tract\"][row[0]]]]+=1\n",
    "    \n",
    "np.savetxt(\"file2.txt\", tactMat)    "
   ]
  },
  {
   "cell_type": "code",
   "execution_count": 5,
   "metadata": {},
   "outputs": [
    {
     "name": "stdout",
     "output_type": "stream",
     "text": [
      "[[8.81780e+04 4.52540e+04 8.23300e+03 ... 7.00000e+00 6.00000e+00\n",
      "  9.00000e+00]\n",
      " [4.52540e+04 1.18594e+05 1.83230e+04 ... 6.00000e+00 0.00000e+00\n",
      "  4.00000e+00]\n",
      " [8.23300e+03 1.83230e+04 2.16580e+04 ... 0.00000e+00 0.00000e+00\n",
      "  1.00000e+00]\n",
      " ...\n",
      " [7.00000e+00 6.00000e+00 0.00000e+00 ... 2.32620e+04 6.58900e+03\n",
      "  7.78600e+03]\n",
      " [6.00000e+00 0.00000e+00 0.00000e+00 ... 6.58900e+03 2.35380e+04\n",
      "  7.43900e+03]\n",
      " [9.00000e+00 4.00000e+00 1.00000e+00 ... 7.78600e+03 7.43900e+03\n",
      "  2.55780e+04]]\n"
     ]
    }
   ],
   "source": [
    "print(tactMat)"
   ]
  },
  {
   "cell_type": "code",
   "execution_count": 88,
   "metadata": {},
   "outputs": [
    {
     "name": "stdout",
     "output_type": "stream",
     "text": [
      "[88178. 45254.  8233. ...  7786.  7439. 25578.]\n"
     ]
    }
   ],
   "source": [
    "tractIndexR = {v: k for k, v in tractIndex.items()}\n",
    "\n",
    "elist=np.transpose(np.nonzero(tactMat))\n",
    "\n",
    "elistCensusTrack=np.zeros(elist.shape)\n",
    "for i in np.arange(elist.shape[0]):\n",
    "    elistCensusTrack[i, 0]=tractIndexR[elist[i,0]]\n",
    "    elistCensusTrack[i, 1]=tractIndexR[elist[i,1]]\n",
    "    \n",
    "    \n",
    "print(np.transpose(tactMat[elist[:,0], elist[:,1]]))\n",
    "elistCensusTrack=np.append(elistCensusTrack, tactMat[elist[:,0], elist[:,1]].reshape(tactMat[elist[:,0], elist[:,1]].shape[0], 1), axis = 1)\n",
    "#tactMat[elist[:,0], elist[:,1]]\n"
   ]
  },
  {
   "cell_type": "code",
   "execution_count": 94,
   "metadata": {},
   "outputs": [],
   "source": [
    "elistCensusTrackDataframe=pd.DataFrame(elistCensusTrack, columns = ['source','target','noofLink'])\n",
    "elistCensusTrackDataframe.to_csv(\"/project/biocomplexity/biosurveillance/EpiHiper/preProcessing/regression/networkCensustrack.csv\",index=False) "
   ]
  },
  {
   "cell_type": "code",
   "execution_count": 92,
   "metadata": {},
   "outputs": [
    {
     "data": {
      "text/html": [
       "<div>\n",
       "<style scoped>\n",
       "    .dataframe tbody tr th:only-of-type {\n",
       "        vertical-align: middle;\n",
       "    }\n",
       "\n",
       "    .dataframe tbody tr th {\n",
       "        vertical-align: top;\n",
       "    }\n",
       "\n",
       "    .dataframe thead th {\n",
       "        text-align: right;\n",
       "    }\n",
       "</style>\n",
       "<table border=\"1\" class=\"dataframe\">\n",
       "  <thead>\n",
       "    <tr style=\"text-align: right;\">\n",
       "      <th></th>\n",
       "      <th>source</th>\n",
       "      <th>target</th>\n",
       "      <th>noofLink</th>\n",
       "    </tr>\n",
       "  </thead>\n",
       "  <tbody>\n",
       "    <tr>\n",
       "      <th>0</th>\n",
       "      <td>901.0</td>\n",
       "      <td>901.00</td>\n",
       "      <td>88178.0</td>\n",
       "    </tr>\n",
       "    <tr>\n",
       "      <th>1</th>\n",
       "      <td>901.0</td>\n",
       "      <td>902.00</td>\n",
       "      <td>45254.0</td>\n",
       "    </tr>\n",
       "    <tr>\n",
       "      <th>2</th>\n",
       "      <td>901.0</td>\n",
       "      <td>903.00</td>\n",
       "      <td>8233.0</td>\n",
       "    </tr>\n",
       "    <tr>\n",
       "      <th>3</th>\n",
       "      <td>901.0</td>\n",
       "      <td>904.00</td>\n",
       "      <td>18109.0</td>\n",
       "    </tr>\n",
       "    <tr>\n",
       "      <th>4</th>\n",
       "      <td>901.0</td>\n",
       "      <td>905.00</td>\n",
       "      <td>8301.0</td>\n",
       "    </tr>\n",
       "    <tr>\n",
       "      <th>...</th>\n",
       "      <td>...</td>\n",
       "      <td>...</td>\n",
       "      <td>...</td>\n",
       "    </tr>\n",
       "    <tr>\n",
       "      <th>1367967</th>\n",
       "      <td>3703.0</td>\n",
       "      <td>462.16</td>\n",
       "      <td>16.0</td>\n",
       "    </tr>\n",
       "    <tr>\n",
       "      <th>1367968</th>\n",
       "      <td>3703.0</td>\n",
       "      <td>464.00</td>\n",
       "      <td>14.0</td>\n",
       "    </tr>\n",
       "    <tr>\n",
       "      <th>1367969</th>\n",
       "      <td>3703.0</td>\n",
       "      <td>3701.00</td>\n",
       "      <td>7786.0</td>\n",
       "    </tr>\n",
       "    <tr>\n",
       "      <th>1367970</th>\n",
       "      <td>3703.0</td>\n",
       "      <td>3702.00</td>\n",
       "      <td>7439.0</td>\n",
       "    </tr>\n",
       "    <tr>\n",
       "      <th>1367971</th>\n",
       "      <td>3703.0</td>\n",
       "      <td>3703.00</td>\n",
       "      <td>25578.0</td>\n",
       "    </tr>\n",
       "  </tbody>\n",
       "</table>\n",
       "<p>1367972 rows × 3 columns</p>\n",
       "</div>"
      ],
      "text/plain": [
       "         source   target  noofLink\n",
       "0         901.0   901.00   88178.0\n",
       "1         901.0   902.00   45254.0\n",
       "2         901.0   903.00    8233.0\n",
       "3         901.0   904.00   18109.0\n",
       "4         901.0   905.00    8301.0\n",
       "...         ...      ...       ...\n",
       "1367967  3703.0   462.16      16.0\n",
       "1367968  3703.0   464.00      14.0\n",
       "1367969  3703.0  3701.00    7786.0\n",
       "1367970  3703.0  3702.00    7439.0\n",
       "1367971  3703.0  3703.00   25578.0\n",
       "\n",
       "[1367972 rows x 3 columns]"
      ]
     },
     "execution_count": 92,
     "metadata": {},
     "output_type": "execute_result"
    }
   ],
   "source": [
    "elistCensusTrackDataframe"
   ]
  },
  {
   "cell_type": "code",
   "execution_count": 80,
   "metadata": {},
   "outputs": [
    {
     "data": {
      "text/plain": [
       "1242"
      ]
     },
     "execution_count": 80,
     "metadata": {},
     "output_type": "execute_result"
    }
   ],
   "source": [
    "elist[1000,1]"
   ]
  },
  {
   "cell_type": "code",
   "execution_count": null,
   "metadata": {},
   "outputs": [],
   "source": []
  }
 ],
 "metadata": {
  "kernelspec": {
   "display_name": "Python 3.8",
   "language": "python",
   "name": "python-3.8"
  },
  "language_info": {
   "codemirror_mode": {
    "name": "ipython",
    "version": 3
   },
   "file_extension": ".py",
   "mimetype": "text/x-python",
   "name": "python",
   "nbconvert_exporter": "python",
   "pygments_lexer": "ipython3",
   "version": "3.8.8"
  }
 },
 "nbformat": 4,
 "nbformat_minor": 4
}
